{
 "cells": [
  {
   "cell_type": "markdown",
   "metadata": {},
   "source": [
    "# Time/Space Complexity - Intro to Data Structures (User Defined)\n"
   ]
  },
  {
   "cell_type": "markdown",
   "metadata": {},
   "source": [
    "# Tasks today:\n",
    "1) <b>Time/Space Complexity</b> <br>\n",
    " &nbsp;&nbsp;&nbsp;&nbsp; a) Constant <br>\n",
    " &nbsp;&nbsp;&nbsp;&nbsp; b) Linear <br>\n",
    " &nbsp;&nbsp;&nbsp;&nbsp; c) Quadratic <br>\n",
    " &nbsp;&nbsp;&nbsp;&nbsp; d) Calculating Big O <br>\n",
    "2) <b>List Data Structures</b> <br>\n",
    " &nbsp;&nbsp;&nbsp;&nbsp; a) Arrays <br>\n",
    " &nbsp;&nbsp;&nbsp;&nbsp; b) Stacks <br>\n",
    " &nbsp;&nbsp;&nbsp;&nbsp; c) Queues <br>\n",
    "3) <b>Linked Lists</b> <br>\n",
    " &nbsp;&nbsp;&nbsp;&nbsp; a) Singly Linked Lists <br>\n",
    " &nbsp;&nbsp;&nbsp;&nbsp; b) Traversing a Linked List <br>\n",
    " &nbsp;&nbsp;&nbsp;&nbsp; c) Find a Node in Linked List <br>\n",
    " &nbsp;&nbsp;&nbsp;&nbsp; d) Adding a Node to the Linked List <br>\n",
    "4) <b>Binary Search Tree</b> <br>\n",
    " &nbsp;&nbsp;&nbsp;&nbsp; a) Construction <br>\n",
    " &nbsp;&nbsp;&nbsp;&nbsp; b) Adding a Node <br>\n",
    " &nbsp;&nbsp;&nbsp;&nbsp; c) Finding a Node <br>\n",
    "5) <b>Exercises</b> <br>\n",
    " &nbsp;&nbsp;&nbsp;&nbsp; a) Remove a Node <br>"
   ]
  },
  {
   "cell_type": "markdown",
   "metadata": {},
   "source": [
    "<table style=\"text-align:center;\" class=\"table table-bordered\">\n",
    "<tbody><tr>\n",
    "<td>constant</td>\n",
    "<td>−</td>\n",
    "<td>Ο(1)</td>\n",
    "</tr>\n",
    "<tr>\n",
    "<td>logarithmic</td>\n",
    "<td>−</td>\n",
    "<td>Ο(log n)</td>\n",
    "</tr>\n",
    "<tr>\n",
    "<td>linear</td>\n",
    "<td>−</td>\n",
    "<td>Ο(n)</td>\n",
    "</tr>\n",
    "<tr>\n",
    "<td>Linear Logarithmic</td>\n",
    "<td>−</td>\n",
    "<td>Ο(n log n)</td>\n",
    "</tr>\n",
    "<tr>\n",
    "<td>quadratic</td>\n",
    "<td>−</td>\n",
    "<td>Ο(n<sup>2</sup>)</td>\n",
    "</tr>\n",
    "<tr>\n",
    "<td>cubic</td>\n",
    "<td>−</td>\n",
    "<td>Ο(n<sup>3</sup>)</td>\n",
    "</tr>\n",
    "<tr>\n",
    "<td>polynomial</td>\n",
    "<td>−</td>\n",
    "<td>n<sup>Ο(1)</sup></td>\n",
    "</tr>\n",
    "<tr>\n",
    "<td>exponential</td>\n",
    "<td>−</td>\n",
    "<td>2<sup>Ο(n)</sup></td>\n",
    "</tr>\n",
    "</tbody></table>"
   ]
  },
  {
   "cell_type": "markdown",
   "metadata": {},
   "source": [
    "## Arrays"
   ]
  },
  {
   "cell_type": "markdown",
   "metadata": {},
   "source": [
    "In python we benefit from the dynamic array which means the block of memory will expand as needed for the given input to the array. In traditional arrays (depending on the type of operating system) we will usually store our inputs in 4 or 8 consecutive blocks of memory. "
   ]
  },
  {
   "cell_type": "markdown",
   "metadata": {},
   "source": [
    "## Which in python looks like this:"
   ]
  },
  {
   "cell_type": "code",
   "execution_count": 2,
   "metadata": {},
   "outputs": [
    {
     "name": "stdout",
     "output_type": "stream",
     "text": [
      "[1, 2, 3, 4, 5, 6, 7, 8, 9, 10]\n"
     ]
    }
   ],
   "source": [
    "list_of_ten = []\n",
    "for i in range(1, 11):\n",
    "    list_of_ten.append(i)\n",
    "print(list_of_ten)\n"
   ]
  },
  {
   "cell_type": "code",
   "execution_count": 3,
   "metadata": {},
   "outputs": [
    {
     "name": "stdout",
     "output_type": "stream",
     "text": [
      "[1, 2, 3, 4, 5, 6, 7, 8, 9, 10]\n"
     ]
    }
   ],
   "source": [
    "list_of_10 = [i for i in range(1,11)]\n",
    "print(list_of_10)"
   ]
  },
  {
   "cell_type": "markdown",
   "metadata": {},
   "source": [
    "### Let's take a look at some of the time and space analysis of arrays"
   ]
  },
  {
   "cell_type": "code",
   "execution_count": 4,
   "metadata": {},
   "outputs": [
    {
     "data": {
      "text/plain": [
       "[3, 8, 3, 87, 11, 3, 86, 51, 39, 8]"
      ]
     },
     "execution_count": 4,
     "metadata": {},
     "output_type": "execute_result"
    }
   ],
   "source": [
    "import random\n",
    "my_arr = [random.randint(1,100) for _ in range (10)]\n",
    "my_arr"
   ]
  },
  {
   "cell_type": "code",
   "execution_count": 7,
   "metadata": {},
   "outputs": [
    {
     "name": "stdout",
     "output_type": "stream",
     "text": [
      "39\n",
      "False\n",
      "False\n",
      "[3, 8, 3, 87, 11, 3, 86, 51, 39, 8]\n",
      "[3, 8, 3, 10000, 11, 3, 86, 51, 39, 8]\n"
     ]
    }
   ],
   "source": [
    "#indexing a list\n",
    "#constant time and space = 0(1)\n",
    "indexing = my_arr[8]\n",
    "print(indexing)\n",
    "\n",
    "#searching through a list\n",
    "# linear time - 0(n) and contant space - 0(1)\n",
    "print(75 in my_arr)\n",
    "print(88 in my_arr)\n",
    "\n",
    "#copying a list\n",
    "#linear time - 0(n) and linear space - 0(n)\n",
    "copied_arr = my_arr[:]\n",
    "print(copied_arr)\n",
    "\n",
    "\n",
    "#assigning a list index a value\n",
    "# contant time =0(1) and contant space - 0(1)\n",
    "my_arr[3] = 10000\n",
    "print(my_arr)"
   ]
  },
  {
   "cell_type": "code",
   "execution_count": 12,
   "metadata": {},
   "outputs": [],
   "source": [
    "def some_func(arr): # O((n*1) + (n * n * 1) + (n*1) + 1)\n",
    "    for x in range(len(arr)): # O(n) - Linear Time\n",
    "        arr[x] = arr[x]**2 # O(1) - Constant Time\n",
    "    for i in arr: # O(n) - Linear Time\n",
    "        for j in arr: # O(n) - Linear Time\n",
    "            print(i*j) # O(1) - Constant Time\n",
    "    for b in arr: # O(n) - Linear Time\n",
    "        print(b) # O(1) - Constant Time\n",
    "    return arr # O(1) - Constant Time\n",
    "\n",
    "# O((n*1) + (n * n * 1) + (n*1) + 1)\n",
    "\n",
    "# simplify\n",
    "# 0(n**2 + 2n + 1)\n",
    "\n",
    "# Drop ALL constants\n",
    "# 0(n**2 + n + 1)\n",
    "\n",
    "#Drop ALL lower complexities\n",
    "# 0(n**2)\n"
   ]
  },
  {
   "cell_type": "code",
   "execution_count": 13,
   "metadata": {},
   "outputs": [
    {
     "name": "stdout",
     "output_type": "stream",
     "text": [
      "1\n",
      "2\n",
      "3\n",
      "4\n",
      "2\n",
      "4\n",
      "6\n",
      "8\n",
      "3\n",
      "6\n",
      "9\n",
      "12\n",
      "4\n",
      "8\n",
      "12\n",
      "16\n",
      "1\n",
      "2\n",
      "3\n",
      "4\n"
     ]
    },
    {
     "data": {
      "text/plain": [
       "[1, 2, 3, 4]"
      ]
     },
     "execution_count": 13,
     "metadata": {},
     "output_type": "execute_result"
    }
   ],
   "source": [
    "some_func([1, 2, 3, 4])"
   ]
  },
  {
   "cell_type": "code",
   "execution_count": null,
   "metadata": {
    "scrolled": true
   },
   "outputs": [],
   "source": [
    "def median(lst):                                        # O(1)    CONSTANT TIME\n",
    "    if len(lst) % 2 == 1:                                   # O(1)\n",
    "        mid = len(lst) // 2                                 # O(1)\n",
    "        return lst[mid]                                     # O(1)\n",
    "    else:\n",
    "        high_mid = len(lst) // 2                            # O(1)\n",
    "        low_mid = len(lst) // 2 - 1                         # O(1)\n",
    "        return (lst[high_mid] + lst[low_mid]) / 2           # O(1)"
   ]
  },
  {
   "cell_type": "code",
   "execution_count": null,
   "metadata": {},
   "outputs": [],
   "source": [
    "def count_words(string):                 # 0(n)\n",
    "    words = string.lower().split()              # 0(n)\n",
    "    word_count = {}                             # 0(1)\n",
    "    for word in words:                          # 0(n)\n",
    "        word = word.strip('?,.!')               # 0(n)\n",
    "        if word not in word_count:              # 0(1)\n",
    "            word_count[word] = 1                # 0(1)\n",
    "        else:\n",
    "            word_count[word] += 1               # 0(1)\n",
    "    return word_count                           # 0(1)"
   ]
  },
  {
   "cell_type": "code",
   "execution_count": 18,
   "metadata": {},
   "outputs": [],
   "source": [
    "def constant(arr):\n",
    "    num_operations = 0\n",
    "    print(arr[0])\n",
    "    num_operations += 1\n",
    "    return num_operations\n",
    "\n",
    "def linear(arr):\n",
    "    num_operations = 0\n",
    "    for item in arr:\n",
    "        print(item)\n",
    "        num_operations += 1\n",
    "    return num_operations\n",
    "\n",
    "def quadratic(arr):\n",
    "    num_operations = 0\n",
    "    for item1 in arr:\n",
    "        for item2 in arr:\n",
    "            print(item1, item2)\n",
    "            num_operations += 1\n",
    "    return num_operations"
   ]
  },
  {
   "cell_type": "code",
   "execution_count": 15,
   "metadata": {},
   "outputs": [
    {
     "name": "stdout",
     "output_type": "stream",
     "text": [
      "[0, 1, 2, 3, 4]\n"
     ]
    }
   ],
   "source": [
    "nums_list = [i for i in range(5)]\n",
    "print(nums_list)"
   ]
  },
  {
   "cell_type": "code",
   "execution_count": 19,
   "metadata": {},
   "outputs": [
    {
     "name": "stdout",
     "output_type": "stream",
     "text": [
      "0\n",
      "Constant: 1\n",
      "==================================================\n",
      "0\n",
      "1\n",
      "2\n",
      "3\n",
      "4\n",
      "Linear: 5\n",
      "==================================================\n",
      "0 0\n",
      "0 1\n",
      "0 2\n",
      "0 3\n",
      "0 4\n",
      "1 0\n",
      "1 1\n",
      "1 2\n",
      "1 3\n",
      "1 4\n",
      "2 0\n",
      "2 1\n",
      "2 2\n",
      "2 3\n",
      "2 4\n",
      "3 0\n",
      "3 1\n",
      "3 2\n",
      "3 3\n",
      "3 4\n",
      "4 0\n",
      "4 1\n",
      "4 2\n",
      "4 3\n",
      "4 4\n",
      "Quadratic: 25\n"
     ]
    }
   ],
   "source": [
    "print(f\"Constant: {constant(nums_list)}\")\n",
    "print('='*50)\n",
    "print(f\"Linear: {linear(nums_list)}\")\n",
    "print('='*50)\n",
    "print(f\"Quadratic: {quadratic(nums_list)}\")"
   ]
  },
  {
   "cell_type": "code",
   "execution_count": null,
   "metadata": {},
   "outputs": [],
   "source": []
  },
  {
   "cell_type": "code",
   "execution_count": null,
   "metadata": {
    "scrolled": false
   },
   "outputs": [],
   "source": []
  },
  {
   "cell_type": "markdown",
   "metadata": {},
   "source": [
    "## Stacks and Queues (Review)\n",
    "\n",
    "** Stacks ** as the name suggests is a data structure that allows for data to follow the Last In First Out priciple(LIFO). Think of a stack of pancakes for example. To get the first pancake you would  start with the top and go down.\n",
    "\n",
    "##### Searching through a stack will be Linear Time O(n) - Constant Space O(1)\n",
    "##### Selecting the first item will be done in Linear Time O(n) - Constant Space O(1)\n",
    "##### Selecting the last item will be done in Constant Time O(1) - Constant Space O(1)\n",
    "##### Adding to the stack will be done in Constant Time O(1) - Constant Space O(1)\n",
    "\n",
    "** Queues ** are similar but in this case follow the First In First Out principle(FIFO). Think of this as a line in a black friday sale. The first person camped out for the big screen tv is the first to get it.\n",
    "\n",
    "##### Searching through a queue will be Linear Time O(n) - Constant Space O(1)\n",
    "##### Selecting the first item will be done in Constant Time O(1) - Constant Space O(1)\n",
    "##### Selecting the last item will be done in Linear Time O(n) - Constant Space O(1)\n",
    "##### Adding to the queue should take Constant Time O(1) - Constant Space O(1)"
   ]
  },
  {
   "cell_type": "code",
   "execution_count": 20,
   "metadata": {},
   "outputs": [],
   "source": [
    "# https://docs.python.org/3/library/collections.html#collections.deque\n",
    "from collections import deque"
   ]
  },
  {
   "cell_type": "code",
   "execution_count": 21,
   "metadata": {},
   "outputs": [
    {
     "name": "stdout",
     "output_type": "stream",
     "text": [
      "Stack:\n",
      "deque([10, 20, 30, 40, 50])\n",
      "50\n",
      "deque([10, 20, 30, 40])\n",
      "40\n",
      "deque([10, 20, 30])\n",
      "30\n",
      "deque([10, 20])\n",
      "20\n",
      "deque([10])\n",
      "10\n",
      "deque([])\n"
     ]
    }
   ],
   "source": [
    "print('Stack:')\n",
    "\n",
    "stack = deque()\n",
    "\n",
    "stack.append(10)\n",
    "stack.append(20)\n",
    "stack.append(30)\n",
    "stack.append(40)\n",
    "stack.append(50)\n",
    "\n",
    "print(stack)\n",
    "\n",
    "while stack:\n",
    "    print(stack.pop())\n",
    "    print(stack)"
   ]
  },
  {
   "cell_type": "code",
   "execution_count": 22,
   "metadata": {},
   "outputs": [
    {
     "name": "stdout",
     "output_type": "stream",
     "text": [
      "Queue:\n",
      "deque(['Brian', 'Sarah', 'Kevin', 'Dylan', 'Aften'])\n",
      "Brian\n",
      "deque(['Sarah', 'Kevin', 'Dylan', 'Aften'])\n",
      "Sarah\n",
      "deque(['Kevin', 'Dylan', 'Aften'])\n",
      "Kevin\n",
      "deque(['Dylan', 'Aften'])\n",
      "Dylan\n",
      "deque(['Aften'])\n",
      "Aften\n",
      "deque([])\n"
     ]
    }
   ],
   "source": [
    "print('Queue:')\n",
    "\n",
    "queue = deque()\n",
    "\n",
    "queue.append('Brian')\n",
    "queue.append('Sarah')\n",
    "queue.append('Kevin')\n",
    "queue.append('Dylan')\n",
    "queue.append('Aften')\n",
    "\n",
    "\n",
    "print(queue)\n",
    "\n",
    "while queue:\n",
    "    print(queue.popleft()) # Set up to be a constant O(1) operation\n",
    "    print(queue)"
   ]
  },
  {
   "cell_type": "code",
   "execution_count": 24,
   "metadata": {},
   "outputs": [
    {
     "name": "stdout",
     "output_type": "stream",
     "text": [
      "Normal List:\n",
      "100\n",
      "[200, 300, 400]\n",
      "200\n",
      "[300, 400]\n",
      "300\n",
      "[400]\n",
      "400\n",
      "[]\n"
     ]
    }
   ],
   "source": [
    "print('Normal List:')\n",
    "\n",
    "a_list = []\n",
    "a_list.append(100)\n",
    "a_list.append(200)\n",
    "a_list.append(300)\n",
    "a_list.append(400)\n",
    "\n",
    "while a_list:\n",
    "    print(a_list.pop(0)) # This is an 0(n) opertion \n",
    "    print(a_list)"
   ]
  },
  {
   "cell_type": "markdown",
   "metadata": {},
   "source": []
  },
  {
   "cell_type": "code",
   "execution_count": null,
   "metadata": {},
   "outputs": [],
   "source": []
  },
  {
   "cell_type": "markdown",
   "metadata": {},
   "source": [
    "## Linked List (Data Structure)\n",
    "\n",
    "A linked list is created by using the node class. We create a Node object and create another class to use this node object. We pass the appropriate values thorugh the node object to point the to the next data elements.\n",
    "\n",
    "There are some advantages and disadvantages with this data structure. **Advantages** Linked Lists can save memory because they can be flexibile with memory management which saves memory. **Disadvantages** Finding or adding to the list requires traversing the entire list."
   ]
  },
  {
   "cell_type": "code",
   "execution_count": null,
   "metadata": {},
   "outputs": [],
   "source": [
    "class LinkedListNode:\n",
    "    def __init__(self, value):\n",
    "        self.value = value\n",
    "        self.next = None\n",
    "        \n",
    "    def traverse(self):\n",
    "        node = self\n",
    "        while node is not None:\n",
    "            print(node.value)\n",
    "            node = node.next\n",
    "            \n",
    "            \n",
    "node1 = LinkedListNode('January')\n",
    "node2 = LinkedListNode('February')\n",
    "node3 = LinkedListNode('April')\n",
    "\n",
    "node1.next = node2\n",
    "node2.next = node3\n",
    "\n",
    "node1.traverse()"
   ]
  },
  {
   "cell_type": "code",
   "execution_count": 26,
   "metadata": {},
   "outputs": [],
   "source": [
    "# Complete Implementation of Linked List\n",
    "# - Add new node to the front of the linked list\n",
    "# - Add new node to the end of the linked list\n",
    "# - Get a node by its value\n",
    "# - Insert new node after a particular node\n",
    "# - Traverse through the linked list and print values\n",
    "\n",
    "# 2 Classes - Node Class and Linked List Class\n",
    "\n",
    "class Node:\n",
    "    def __init__(self, value):\n",
    "        self.value = value\n",
    "        self.next = None\n",
    "        \n",
    "    def __str__(self):\n",
    "        return str(self.value)\n",
    "    \n",
    "    def __repr__(self):\n",
    "        return f\"<Node|{self.value}>\"\n",
    "    \n",
    "    \n",
    "class LinkedList:\n",
    "    def __init__(self, head_node=None):\n",
    "        # head attribute will point to the first node of the Linked List\n",
    "        self.head = head_node\n",
    "        \n",
    "    # Method to add a new node to the beginning of the linked list\n",
    "    def push_on(self, new_value): # O(1) - Constant Time \n",
    "        # Create a new node with the value passed in\n",
    "        new_node = Node(new_value)\n",
    "        # Set the new_node's .next attribute to be the current head\n",
    "        new_node.next = self.head\n",
    "        # Set the head of the linked list to the new node\n",
    "        self.head = new_node\n",
    "        \n",
    "    # Method to print out all of the nodes in the Linked List in order\n",
    "    def print_list(self):\n",
    "        # Start at the beginning of the list\n",
    "        node = self.head\n",
    "        # While the node is a node (and not None), continue to loop\n",
    "        while node is not None:\n",
    "            # Print the node (which will call the Node __str__ method)\n",
    "            print(node)\n",
    "            # Go to the next node in the list\n",
    "            node = node.next\n",
    "            \n",
    "    # Method to add a new node to the end of the linked list\n",
    "    def append(self, new_value): # O(n) - Linear Time\n",
    "        # Create a new node with the value passed in\n",
    "        new_node = Node(new_value)\n",
    "        # Check if the linked is empty\n",
    "        if self.head is None:\n",
    "            # Set the head to be the new node\n",
    "            self.head = new_node\n",
    "        # If not empty\n",
    "        else:\n",
    "            # Traverse to the end of the list\n",
    "            node = self.head\n",
    "            while node.next is not None:\n",
    "                # Move to the next node\n",
    "                node = node.next\n",
    "            # once the node.next IS None, set that node's .next to be the newly created node\n",
    "            node.next = new_node\n",
    "            \n",
    "    # Method to get a node by value or return None if not in the Linked List\n",
    "    def get_node(self, value_to_get):\n",
    "        # Start with the head\n",
    "        node_to_check = self.head\n",
    "        # while node_to_check is a node\n",
    "        while node_to_check is not None:\n",
    "            # Check if that is the node we are looking for\n",
    "            if node_to_check.value == value_to_get:\n",
    "                # Return that node, we found it\n",
    "                return node_to_check  # return means we do not need an else: statement\n",
    "            # if not, move on to the next node\n",
    "            node_to_check = node_to_check.next\n",
    "        # Once the node to check is None, we know the value to get is not in the linked list\n",
    "        return None\n",
    "    \n",
    "    # Method to insert a new node in the linked list after a certain node (by value)\n",
    "    def insert_after(self, prev_value, new_value):\n",
    "        # Get the previous node by value\n",
    "        prev_node = self.get_node(prev_value)\n",
    "        # Make sure the node exists\n",
    "        if prev_node is None:\n",
    "            print(f\"{prev_value} is not in the linked list\")\n",
    "        else:\n",
    "            # Create a new node with the new value\n",
    "            new_node = Node(new_value)\n",
    "            # point the new_node's .next attribute at the previous node's .next\n",
    "            new_node.next = prev_node.next\n",
    "            # point the prev_node's .next to the new node\n",
    "            prev_node.next = new_node\n",
    "\n",
    "\n",
    "\n",
    "months = LinkedList()\n",
    "months.append('July')\n",
    "months.append('August')\n",
    "months.push_on('June')\n",
    "months.push_on('March')\n",
    "months.push_on('February')\n",
    "months.append('September')"
   ]
  },
  {
   "cell_type": "code",
   "execution_count": 27,
   "metadata": {},
   "outputs": [
    {
     "name": "stdout",
     "output_type": "stream",
     "text": [
      "June\n"
     ]
    },
    {
     "data": {
      "text/plain": [
       "<Node|June>"
      ]
     },
     "execution_count": 27,
     "metadata": {},
     "output_type": "execute_result"
    }
   ],
   "source": [
    "june = months.get_node('June')\n",
    "print(june)\n",
    "june"
   ]
  },
  {
   "cell_type": "code",
   "execution_count": 29,
   "metadata": {},
   "outputs": [],
   "source": [
    "import time"
   ]
  },
  {
   "cell_type": "code",
   "execution_count": 30,
   "metadata": {},
   "outputs": [
    {
     "name": "stdout",
     "output_type": "stream",
     "text": [
      "0.027279138565063477\n",
      "0.2658209800720215\n"
     ]
    }
   ],
   "source": [
    "# Adding a new node the end of the list - O(n) - Linear Time\n",
    "a_linked_list = LinkedList()\n",
    "\n",
    "start = time.time()\n",
    "\n",
    "for i in range(1000):\n",
    "    a_linked_list.append(i)\n",
    "\n",
    "end = time.time()\n",
    "\n",
    "print(end - start)\n",
    "\n",
    "# Adding a new node to the beginning of the list - O(1) - Constant Time\n",
    "b_linked_list = LinkedList()\n",
    "\n",
    "start = time.time()\n",
    "\n",
    "for i in range(1000):\n",
    "    b_linked_list.push_on(i)\n",
    "\n",
    "end = time.time()\n",
    "\n",
    "print(end - start)"
   ]
  },
  {
   "cell_type": "code",
   "execution_count": 31,
   "metadata": {},
   "outputs": [
    {
     "name": "stdout",
     "output_type": "stream",
     "text": [
      "0.0001900196075439453\n",
      "0.0009610652923583984\n"
     ]
    }
   ],
   "source": [
    "# Adding to the end of Python's built in list - O(1) - Constant Time\n",
    "normal_list_a = []\n",
    "\n",
    "start = time.time()\n",
    "\n",
    "for i in range(1000):\n",
    "    normal_list_a.append(i)\n",
    "\n",
    "end = time.time()\n",
    "\n",
    "print(end - start)\n",
    "\n",
    "# Adding a to the beginning of Python's built in list - O(n) - Linear Time\n",
    "normal_list_b = []\n",
    "\n",
    "start = time.time()\n",
    "\n",
    "for i in range(1000):\n",
    "    normal_list_b.insert(0, i)\n",
    "\n",
    "end = time.time()\n",
    "\n",
    "print(end - start)"
   ]
  },
  {
   "cell_type": "markdown",
   "metadata": {},
   "source": [
    "## Binary Search Trees"
   ]
  },
  {
   "cell_type": "code",
   "execution_count": null,
   "metadata": {},
   "outputs": [],
   "source": [
    "class BST:\n",
    "    def __init__(self, value):\n",
    "        self.value = value\n",
    "        self.left = None\n",
    "        self.right = None\n",
    "    \n",
    "    def __repr__(self):\n",
    "        return f\"<BST|{self.value}>\"\n",
    "\n",
    "    # Method to add a new node to the tree\n",
    "    def insert(self, new_value):\n",
    "        # If the new value is less than the current node's value\n",
    "        if new_value < self.value:\n",
    "            # if the current node has no left subtree\n",
    "            if self.left is None:\n",
    "                # Set the left left subtree to be a new instance of BST with new value\n",
    "                self.left = BST(new_value)\n",
    "            # If the current node DOES have a left subtree\n",
    "            else:\n",
    "                # Call the insert method from the left subtree\n",
    "                self.left.insert(new_value)\n",
    "        # if the new value is greater than or equal to current node\n",
    "        else:\n",
    "            # Check the right node\n",
    "            if self.right is None:\n",
    "                # Set the right subtree to a new instance\n",
    "                self.right = BST(new_value)\n",
    "            else:\n",
    "                # Call the insert method from the right subtree\n",
    "                self.right.insert(new_value)\n",
    "                \n",
    "    # Method to find a node based on a value - will return either a BST Node or None\n",
    "    def find_node(self, target):\n",
    "        # if target is equal to the current node's value\n",
    "        if target == self.value:\n",
    "            # Return that node\n",
    "            return self\n",
    "        # If the target is less than the current node's value\n",
    "        elif target < self.value:\n",
    "            # See if the current node's left subtree is empty\n",
    "            if self.left is None:\n",
    "                # We know the target is not in the tree because it would be here (or at least on this path)\n",
    "                return None\n",
    "            # if the current node does have a left subtree\n",
    "            else:\n",
    "                # Call the find_node method from the left subtree and return that value\n",
    "                return self.left.find_node(target)\n",
    "        # If the target is greater than the current node's value\n",
    "        elif target > self.value:\n",
    "            # See if the current node's right subtree is empty\n",
    "            if self.right is None:\n",
    "                # We know the target is not in the tree because it would be here (or at least on this path)\n",
    "                return None\n",
    "            # if the current node does have a left subtree\n",
    "            else:\n",
    "                # Call the find_node method from the right subtree and return that value\n",
    "                return self.right.find_node(target)\n",
    "            \n",
    "    # Method to get the max value in the tree\n",
    "    def get_max_value(self):\n",
    "        if self.right is None:\n",
    "            return self.value\n",
    "        else:\n",
    "            return self.right.get_max_value()\n",
    "        \n",
    "    # Method to get the min value in the tree\n",
    "    def get_min_value(self):\n",
    "        if self.left is None:\n",
    "            return self.value\n",
    "        else:\n",
    "            return self.left.get_min_value()\n",
    "    \n",
    "    \n",
    "tree = BST(50)\n",
    "tree.insert(40)\n",
    "tree.insert(35)\n",
    "tree.insert(70)\n",
    "tree.insert(55)\n",
    "tree.insert(75)\n",
    "tree.insert(10)\n",
    "tree.insert(15)\n",
    "tree.find_node(50)\n",
    "tree.find_node(10)\n",
    "tree.find_node(70)\n",
    "tree.find_node(99)"
   ]
  },
  {
   "cell_type": "code",
   "execution_count": null,
   "metadata": {},
   "outputs": [],
   "source": []
  },
  {
   "cell_type": "code",
   "execution_count": null,
   "metadata": {},
   "outputs": [],
   "source": []
  },
  {
   "cell_type": "markdown",
   "metadata": {},
   "source": [
    "# Homework"
   ]
  },
  {
   "cell_type": "markdown",
   "metadata": {},
   "source": [
    "#### Problem 1: Add a .remove method to the LinkedList\n",
    "\n",
    "Update the `.remove` method to the LinkedList class to remove a node from the list.\n",
    "\n",
    "The method should take in the value to remove and remove the node with that value from the LinkedList."
   ]
  },
  {
   "cell_type": "code",
   "execution_count": 1,
   "metadata": {
    "scrolled": true
   },
   "outputs": [
    {
     "name": "stdout",
     "output_type": "stream",
     "text": [
      "Sunday\n",
      "Monday\n",
      "Wednesday\n",
      "Thursday\n",
      "Friday\n",
      "Saturday\n"
     ]
    }
   ],
   "source": [
    "class Node:\n",
    "    def __init__(self, value):\n",
    "        self.value = value\n",
    "        self.next = None\n",
    "        \n",
    "    def __str__(self):\n",
    "        return str(self.value)\n",
    "    \n",
    "    def __repr__(self):\n",
    "        return f\"<Node|{self.value}>\"\n",
    "\n",
    "class LinkedList:\n",
    "    def __init__(self, head_node=None):\n",
    "        self.head = head_node\n",
    "        \n",
    "    def push_on(self, new_value):\n",
    "        new_node = Node(new_value)\n",
    "        new_node.next = self.head\n",
    "        self.head = new_node\n",
    "        \n",
    "    def traverse_list(self):\n",
    "        node = self.head\n",
    "        while node is not None:\n",
    "            print(node)\n",
    "            node = node.next\n",
    "            \n",
    "    def append(self, new_value):\n",
    "        new_node = Node(new_value)\n",
    "        if self.head is None:\n",
    "            self.head = new_node\n",
    "        else:\n",
    "            node = self.head\n",
    "            while node.next is not None:\n",
    "                node = node.next\n",
    "            node.next = new_node\n",
    "            \n",
    "    def get_node(self, value_to_get):\n",
    "        node_to_check = self.head\n",
    "        while node_to_check is not None:\n",
    "            if node_to_check.value == value_to_get:\n",
    "                return node_to_check\n",
    "            node_to_check = node_to_check.next\n",
    "        return None\n",
    "    \n",
    "    def insert_after(self, prev_value, new_value):\n",
    "        prev_node = self.get_node(prev_value)\n",
    "        if prev_node is None:\n",
    "            print(f\"{prev_value} is not in the linked list.\")\n",
    "        else:\n",
    "            new_node = Node(new_value)\n",
    "            new_node.next = prev_node.next\n",
    "            prev_node.next = new_node\n",
    "            \n",
    "    def find_before(self, value_to_get):\n",
    "        node = self.head\n",
    "        while node.next is not None:\n",
    "            if node.next.value == value_to_get:\n",
    "                return node\n",
    "            node = node.next\n",
    "        return None\n",
    "\n",
    "\n",
    "    #UPDATE        \n",
    "    def remove(self, value_to_remove):\n",
    "        # check if head is value_to_remove\n",
    "        node = self.head\n",
    "        if node.value == value_to_remove:\n",
    "            #set head to next\n",
    "            self.head = node.next\n",
    "        # find the head pointing to the value_to_remove\n",
    "        else:\n",
    "            #while the node is not the last element\n",
    "            while node.next is not None:\n",
    "                #check if next value is value_to_remove\n",
    "                if node.next.value == value_to_remove:\n",
    "                    #if so, set the next to value to removes next\n",
    "                    node.next = node.next.next\n",
    "                    break\n",
    "                # if not, move to next\n",
    "                node = node.next\n",
    "    \n",
    "\n",
    "\n",
    "\n",
    "weekdays = LinkedList()\n",
    "list_of_days = ['Sunday', 'Monday', 'Tuesday', 'Wednesday', 'Thursday', 'Friday', 'Saturday']\n",
    "for day in list_of_days:\n",
    "    weekdays.append(day)\n",
    "\n",
    "weekdays.remove('Tuesday')\n",
    "\n",
    "weekdays.traverse_list()"
   ]
  },
  {
   "cell_type": "code",
   "execution_count": null,
   "metadata": {},
   "outputs": [],
   "source": []
  }
 ],
 "metadata": {
  "kernelspec": {
   "display_name": "Python 3 (ipykernel)",
   "language": "python",
   "name": "python3"
  },
  "language_info": {
   "codemirror_mode": {
    "name": "ipython",
    "version": 3
   },
   "file_extension": ".py",
   "mimetype": "text/x-python",
   "name": "python",
   "nbconvert_exporter": "python",
   "pygments_lexer": "ipython3",
   "version": "3.11.7"
  }
 },
 "nbformat": 4,
 "nbformat_minor": 2
}
